{
 "cells": [
  {
   "cell_type": "code",
   "execution_count": null,
   "metadata": {},
   "outputs": [],
   "source": [
    "# Imports\n",
    "from web3 import Web3\n",
    "from web3 import EthereumTesterProvider"
   ]
  },
  {
   "cell_type": "code",
   "execution_count": null,
   "metadata": {},
   "outputs": [],
   "source": [
    "w3 = Web3()\n",
    "\n",
    "# Create an instance of the EthereumTesterProvider\n",
    "provider = EthereumTesterProvider()\n",
    "\n",
    "# Pass the provider as a parameter to the Web3 instance\n",
    "w3 = Web3(provider)\n",
    "\n",
    "# Access information for the most recent block created on the mock blockchain\n",
    "w3.eth.get_block('latest')\n",
    "\n",
    "# Print a list of accounts on the mock blockchain\n",
    "print(w3.eth.accounts)\n",
    "\n",
    "# Access the balance of an account using an address from Step 5.\n",
    "wei_balance = w3.eth.get_balance('0xaBbACadABa000000000000000000000000000000')\n",
    "\n",
    "# Print the balance of the account in wei\n",
    "wei_balance\n",
    "\n",
    "# Convert the balance from wei to ether\n",
    "eth_balance = w3.from_wei(wei_balance, 'ether')\n",
    "\n",
    "# Print the balance in ether\n",
    "print(eth_balance)"
   ]
  }
 ],
 "metadata": {
  "language_info": {
   "name": "python"
  },
  "orig_nbformat": 4
 },
 "nbformat": 4,
 "nbformat_minor": 2
}
