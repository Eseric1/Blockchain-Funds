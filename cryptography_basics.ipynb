{
 "cells": [
  {
   "cell_type": "code",
   "execution_count": null,
   "metadata": {},
   "outputs": [],
   "source": [
    "# Imports\n",
    "import os\n",
    "from dotenv import load_dotenv\n",
    "load_dotenv()\n",
    "from mnemonic import Mnemonic\n",
    "from bip44 import Wallet\n",
    "from web3 import Account"
   ]
  },
  {
   "cell_type": "code",
   "execution_count": null,
   "metadata": {},
   "outputs": [],
   "source": [
    "# Load the value of the MNEMONIC variable from the .env file\n",
    "mnemonic = os.getenv(\"MNEMONIC\")\n",
    "\n",
    "# Evaluate the contents of the mnemonic variable\n",
    "# Create a new mnemonic seed phrase if the value of mnemonic equals None\n",
    "if mnemonic is None:\n",
    "  mnemo = Mnemonic(\"english\")   \n",
    "  mnemonic = mnemo.generate(strength=128)\n",
    "\n",
    "# Display the value of the mnemonic variable\n",
    "display(mnemonic)\n",
    "\n",
    "wallet = Wallet(mnemonic)\n",
    "wallet"
   ]
  },
  {
   "cell_type": "code",
   "execution_count": null,
   "metadata": {},
   "outputs": [],
   "source": [
    "# Create the public and private keys associated with a new Ethereum account\n",
    "private, public = wallet.derive_account(\"eth\")\n",
    "\n",
    "# Display the private key\n",
    "private"
   ]
  }
 ],
 "metadata": {
  "language_info": {
   "name": "python"
  },
  "orig_nbformat": 4
 },
 "nbformat": 4,
 "nbformat_minor": 2
}
